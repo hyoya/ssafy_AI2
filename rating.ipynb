{
 "cells": [
  {
   "cell_type": "code",
   "execution_count": 1,
   "metadata": {},
   "outputs": [],
   "source": [
    "import numpy as np\n",
    "import pickle\n",
    "\n",
    "from konlpy.tag import Okt\n",
    "from scipy.sparse import lil_matrix\n",
    "from sklearn.naive_bayes import MultinomialNB\n",
    "from sklearn.linear_model import LogisticRegression"
   ]
  },
  {
   "cell_type": "code",
   "execution_count": 2,
   "metadata": {},
   "outputs": [],
   "source": [
    "\n",
    "\"\"\"\n",
    "Req 1-1-1. 데이터 읽기\n",
    "read_data(): 데이터를 읽어서 저장하는 함수\n",
    "\"\"\"\n",
    "\n",
    "def read_data(filename):\n",
    "    with open(filename, 'r', encoding='utf-8') as f:\n",
    "        datas = [line.split('\\t') for line in f.read().splitlines()]\n",
    "        datas = datas[1:]\n",
    "    return datas"
   ]
  },
  {
   "cell_type": "code",
   "execution_count": 3,
   "metadata": {},
   "outputs": [],
   "source": [
    "\n",
    "\"\"\"\n",
    "Req 1-1-2. 토큰화 함수\n",
    "tokenize(): 텍스트 데이터를 받아 KoNLPy의 okt 형태소 분석기로 토크나이징\n",
    "\"\"\"\n",
    "okt = Okt()\n",
    "\n",
    "def tokenize(doc):\n",
    "    tt = okt.pos(doc, norm=True, stem=True)\n",
    "    return ['/'.join(t) for t in tt]\n"
   ]
  },
  {
   "cell_type": "code",
   "execution_count": 4,
   "metadata": {},
   "outputs": [],
   "source": [
    "\n",
    "\"\"\"\n",
    "데이터 전 처리\n",
    "\"\"\"\n",
    "\n",
    "# train, test 데이터 읽기\n",
    "train_data = read_data('ratings_train.txt')\n",
    "test_data = read_data('ratings_test.txt')\n",
    "\n",
    "\n",
    "# Req 1-1-2. 문장 데이터 토큰화\n",
    "# train_docs, test_docs : 토큰화된 트레이닝, 테스트  문장에 label 정보를 추가한 list\n",
    "\n",
    "\n",
    "train_docs = [(tokenize(i[1]), i[2]) for i in train_data]\n",
    "test_docs = [(tokenize(i[1]), i[2]) for i in test_data]\n",
    "\n"
   ]
  },
  {
   "cell_type": "code",
   "execution_count": 5,
   "metadata": {
    "scrolled": true
   },
   "outputs": [],
   "source": [
    "\n",
    "\n",
    "# Req 1-1-3. word_indices 초기화\n",
    "word_indices = {}\n",
    "\n",
    "# Req 1-1-3. word_indices 채우기\n",
    "\n",
    "for vocas in train_docs:\n",
    "     # print(vocas[0])\n",
    "     for voca in vocas[0]:\n",
    "         text = voca.split('/')[0]\n",
    "         if text not in word_indices:\n",
    "             word_indices[text] = len(word_indices)"
   ]
  },
  {
   "cell_type": "code",
   "execution_count": 7,
   "metadata": {
    "scrolled": false
   },
   "outputs": [],
   "source": [
    "X = lil_matrix((len(train_docs), len(word_indices)))\n",
    "X_test = lil_matrix((len(test_docs), len(word_indices)))"
   ]
  },
  {
   "cell_type": "code",
   "execution_count": 8,
   "metadata": {
    "scrolled": true
   },
   "outputs": [],
   "source": [
    "Y = np.zeros(len(train_docs))\n",
    "Y_test = np.zeros(len(test_docs))"
   ]
  },
  {
   "cell_type": "code",
   "execution_count": 9,
   "metadata": {},
   "outputs": [],
   "source": [
    "def one_hot_encoding(word, word2index):\n",
    "    one_hot_vector = [0]*(len(word2index))\n",
    "    index=word2index.get(word)\n",
    "    if index is not None:\n",
    "        one_hot_vector[index]=1\n",
    "    return one_hot_vector"
   ]
  },
  {
   "cell_type": "code",
   "execution_count": null,
   "metadata": {},
   "outputs": [],
   "source": [
    "for (idx1, vocas) in enumerate(train_docs):\n",
    "     for (idx2, voca) in enumerate(vocas[0]):\n",
    "        text = voca.split('/')[0]\n",
    "        X[idx1] = one_hot_encoding(text, word_indices)"
   ]
  },
  {
   "cell_type": "code",
   "execution_count": null,
   "metadata": {},
   "outputs": [],
   "source": [
    "for (idx1, vocas) in enumerate(test_docs):\n",
    "     for (idx2, voca) in enumerate(vocas[0]):\n",
    "        text = voca.split('/')[0]\n",
    "        X_test[idx1] = one_hot_encoding(text, word_indices)"
   ]
  },
  {
   "cell_type": "code",
   "execution_count": null,
   "metadata": {},
   "outputs": [],
   "source": [
    "for (idx1, vocas) in enumerate(train_docs):\n",
    "     Y[idx1] = vocas[1]\n",
    "for (idx1, vocas) in enumerate(test_docs):\n",
    "     Y_test[idx1] = vocas[1]"
   ]
  },
  {
   "cell_type": "code",
   "execution_count": null,
   "metadata": {},
   "outputs": [],
   "source": [
    "print(X)"
   ]
  },
  {
   "cell_type": "code",
   "execution_count": null,
   "metadata": {
    "scrolled": true
   },
   "outputs": [],
   "source": [
    "print(X_test)"
   ]
  },
  {
   "cell_type": "code",
   "execution_count": null,
   "metadata": {},
   "outputs": [],
   "source": [
    "# Req 1-2-1. Naive bayesian model 학습\n",
    "clf = MultinomialNB()\n",
    "\n",
    "# Req 1-2-2. Logistic regression model 학습\n",
    "clf2 = LogisticRegression(random_state=0, solver='lbfgs',multi_class='multinomial')"
   ]
  },
  {
   "cell_type": "code",
   "execution_count": null,
   "metadata": {
    "scrolled": true
   },
   "outputs": [],
   "source": [
    "clf.fit(X, Y)"
   ]
  },
  {
   "cell_type": "code",
   "execution_count": null,
   "metadata": {},
   "outputs": [],
   "source": [
    "clf2.fit(X, Y)"
   ]
  },
  {
   "cell_type": "code",
   "execution_count": null,
   "metadata": {},
   "outputs": [],
   "source": [
    "# Req 1-3-1. 문장 데이터에 따른 예측된 분류값 출력\n",
    "print(\"Naive bayesian classifier example result: {}, {}\".format(test_data[3][1], clf.predict(X_test[3])))\n",
    "print(\"Logistic regression exampleresult: {}, {}\".format(test_data[3][1], clf2.predict(X_test[3])))\n",
    "\n",
    "# Req 1-3-2. 정확도 출력\n",
    "print(\"Naive bayesian classifier accuracy: {}\".format(clf.score(X_test, Y_test)))\n",
    "print(\"Logistic regression accuracy: {}\".format(clf2.score(X_test, Y_test)))\n"
   ]
  },
  {
   "cell_type": "code",
   "execution_count": null,
   "metadata": {},
   "outputs": [],
   "source": []
  }
 ],
 "metadata": {
  "kernelspec": {
   "display_name": "Python 3",
   "language": "python",
   "name": "python3"
  },
  "language_info": {
   "codemirror_mode": {
    "name": "ipython",
    "version": 3
   },
   "file_extension": ".py",
   "mimetype": "text/x-python",
   "name": "python",
   "nbconvert_exporter": "python",
   "pygments_lexer": "ipython3",
   "version": "3.7.3"
  }
 },
 "nbformat": 4,
 "nbformat_minor": 2
}
